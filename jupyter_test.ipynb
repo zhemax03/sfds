{
 "cells": [
  {
   "cell_type": "code",
   "execution_count": 1,
   "metadata": {},
   "outputs": [
    {
     "name": "stdout",
     "output_type": "stream",
     "text": [
      "[1, 2, 3, 4, 5, 6, 7]\n"
     ]
    }
   ],
   "source": [
    "lst = [1, [2, 3], [4, 5, [6, 7]]]\n",
    "\n",
    "def lst_flatten(lst: list) -> list:\n",
    "    lst1 = []\n",
    "    for x in lst:\n",
    "        if type(x) is int:\n",
    "            lst1.append(x)\n",
    "        else:\n",
    "            lst1.extend(lst_flatten(x))\n",
    "    return lst1\n",
    "\n",
    "print(lst_flatten(lst))"
   ]
  }
 ],
 "metadata": {
  "kernelspec": {
   "display_name": "Python 3",
   "language": "python",
   "name": "python3"
  },
  "language_info": {
   "codemirror_mode": {
    "name": "ipython",
    "version": 3
   },
   "file_extension": ".py",
   "mimetype": "text/x-python",
   "name": "python",
   "nbconvert_exporter": "python",
   "pygments_lexer": "ipython3",
   "version": "3.12.3"
  }
 },
 "nbformat": 4,
 "nbformat_minor": 2
}
